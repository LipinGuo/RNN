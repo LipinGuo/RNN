{
  "cells": [
    {
      "cell_type": "markdown",
      "id": "d3e83fe5",
      "metadata": {
        "id": "d3e83fe5"
      },
      "source": [
        "code source:\n",
        "1. https://www.kaggle.com/code/rodsaldanha/stock-prediction-pytorch/notebook\n",
        "2. https://www.analyticsvidhya.com/blog/2021/07/understanding-rnn-step-by-step-with-pytorch/\n",
        "3. https://blog.floydhub.com/a-beginners-guide-on-recurrent-neural-networks-with-pytorch/\n",
        "4. https://gist.github.com/karpathy/d4dee566867f8291f086\n",
        "5. https://www.bilibili.com/video/BV1Qy4y1h7nF/"
      ]
    },
    {
      "cell_type": "code",
      "execution_count": 3,
      "id": "d43eda35",
      "metadata": {
        "id": "d43eda35"
      },
      "outputs": [],
      "source": [
        "# Importing libraries. \n",
        "import random\n",
        "import numpy as np\n",
        "import pandas as pd\n",
        "import matplotlib.pyplot as plt\n",
        "import seaborn as sns\n",
        "import os\n",
        "import torch\n",
        "from torch import nn\n",
        "from sklearn.preprocessing import MinMaxScaler\n",
        "from torch.utils.data.dataloader import DataLoader\n",
        "from torch.utils.data import Dataset\n",
        "from sklearn.linear_model import LinearRegression\n",
        "from sklearn.metrics import mean_squared_error\n",
        "import datetime"
      ]
    },
    {
      "cell_type": "code",
      "source": [
        "torch.manual_seed(1)\n",
        "random.seed(0)"
      ],
      "metadata": {
        "id": "oXh-djwZZQjT"
      },
      "id": "oXh-djwZZQjT",
      "execution_count": 4,
      "outputs": []
    },
    {
      "cell_type": "markdown",
      "source": [
        "## Experiment"
      ],
      "metadata": {
        "id": "_sTCeQ_kxR9U"
      },
      "id": "_sTCeQ_kxR9U"
    },
    {
      "cell_type": "markdown",
      "source": [
        "### **Linear regression model**"
      ],
      "metadata": {
        "id": "OZQvP7DZpf8Z"
      },
      "id": "OZQvP7DZpf8Z"
    },
    {
      "cell_type": "code",
      "source": [
        " # Load data\n",
        " data = pd.read_csv('IBM.csv')  \n",
        " # Convert Date to Date format\n",
        " data['Date'] = pd.to_datetime(data['Date'], format='%Y-%m-%d')\n",
        "\n",
        "# Crop data to use stock values from 2018 onwards\n",
        "data = data[data.Date>=datetime.datetime(2018,1,1)]\n",
        "\n",
        "# Visualization of our data\n",
        "data.head()"
      ],
      "metadata": {
        "colab": {
          "base_uri": "https://localhost:8080/",
          "height": 206
        },
        "id": "zFdEJdMwF3fx",
        "outputId": "1ee51b4c-09bc-43cd-d4e6-88096a1aa57a"
      },
      "id": "zFdEJdMwF3fx",
      "execution_count": 7,
      "outputs": [
        {
          "output_type": "execute_result",
          "data": {
            "text/plain": [
              "        Date        Open        High         Low       Close   Adj Close  \\\n",
              "0 2018-01-02  147.705551  148.001907  146.787766  147.466537  116.036736   \n",
              "1 2018-01-03  150.420654  152.782028  149.455063  151.520081  119.226318   \n",
              "2 2018-01-04  152.629059  155.181641  152.361374  154.588913  121.641083   \n",
              "3 2018-01-05  155.296371  155.736145  154.015289  155.344162  122.235382   \n",
              "4 2018-01-08  155.506699  156.701721  154.588913  156.281067  122.972580   \n",
              "\n",
              "    Volume  \n",
              "0  4395815  \n",
              "1  9875914  \n",
              "2  7903785  \n",
              "3  5434807  \n",
              "4  5478425  "
            ],
            "text/html": [
              "\n",
              "  <div id=\"df-b8de1565-7c14-41f2-96fd-b18973fc98a1\">\n",
              "    <div class=\"colab-df-container\">\n",
              "      <div>\n",
              "<style scoped>\n",
              "    .dataframe tbody tr th:only-of-type {\n",
              "        vertical-align: middle;\n",
              "    }\n",
              "\n",
              "    .dataframe tbody tr th {\n",
              "        vertical-align: top;\n",
              "    }\n",
              "\n",
              "    .dataframe thead th {\n",
              "        text-align: right;\n",
              "    }\n",
              "</style>\n",
              "<table border=\"1\" class=\"dataframe\">\n",
              "  <thead>\n",
              "    <tr style=\"text-align: right;\">\n",
              "      <th></th>\n",
              "      <th>Date</th>\n",
              "      <th>Open</th>\n",
              "      <th>High</th>\n",
              "      <th>Low</th>\n",
              "      <th>Close</th>\n",
              "      <th>Adj Close</th>\n",
              "      <th>Volume</th>\n",
              "    </tr>\n",
              "  </thead>\n",
              "  <tbody>\n",
              "    <tr>\n",
              "      <th>0</th>\n",
              "      <td>2018-01-02</td>\n",
              "      <td>147.705551</td>\n",
              "      <td>148.001907</td>\n",
              "      <td>146.787766</td>\n",
              "      <td>147.466537</td>\n",
              "      <td>116.036736</td>\n",
              "      <td>4395815</td>\n",
              "    </tr>\n",
              "    <tr>\n",
              "      <th>1</th>\n",
              "      <td>2018-01-03</td>\n",
              "      <td>150.420654</td>\n",
              "      <td>152.782028</td>\n",
              "      <td>149.455063</td>\n",
              "      <td>151.520081</td>\n",
              "      <td>119.226318</td>\n",
              "      <td>9875914</td>\n",
              "    </tr>\n",
              "    <tr>\n",
              "      <th>2</th>\n",
              "      <td>2018-01-04</td>\n",
              "      <td>152.629059</td>\n",
              "      <td>155.181641</td>\n",
              "      <td>152.361374</td>\n",
              "      <td>154.588913</td>\n",
              "      <td>121.641083</td>\n",
              "      <td>7903785</td>\n",
              "    </tr>\n",
              "    <tr>\n",
              "      <th>3</th>\n",
              "      <td>2018-01-05</td>\n",
              "      <td>155.296371</td>\n",
              "      <td>155.736145</td>\n",
              "      <td>154.015289</td>\n",
              "      <td>155.344162</td>\n",
              "      <td>122.235382</td>\n",
              "      <td>5434807</td>\n",
              "    </tr>\n",
              "    <tr>\n",
              "      <th>4</th>\n",
              "      <td>2018-01-08</td>\n",
              "      <td>155.506699</td>\n",
              "      <td>156.701721</td>\n",
              "      <td>154.588913</td>\n",
              "      <td>156.281067</td>\n",
              "      <td>122.972580</td>\n",
              "      <td>5478425</td>\n",
              "    </tr>\n",
              "  </tbody>\n",
              "</table>\n",
              "</div>\n",
              "      <button class=\"colab-df-convert\" onclick=\"convertToInteractive('df-b8de1565-7c14-41f2-96fd-b18973fc98a1')\"\n",
              "              title=\"Convert this dataframe to an interactive table.\"\n",
              "              style=\"display:none;\">\n",
              "        \n",
              "  <svg xmlns=\"http://www.w3.org/2000/svg\" height=\"24px\"viewBox=\"0 0 24 24\"\n",
              "       width=\"24px\">\n",
              "    <path d=\"M0 0h24v24H0V0z\" fill=\"none\"/>\n",
              "    <path d=\"M18.56 5.44l.94 2.06.94-2.06 2.06-.94-2.06-.94-.94-2.06-.94 2.06-2.06.94zm-11 1L8.5 8.5l.94-2.06 2.06-.94-2.06-.94L8.5 2.5l-.94 2.06-2.06.94zm10 10l.94 2.06.94-2.06 2.06-.94-2.06-.94-.94-2.06-.94 2.06-2.06.94z\"/><path d=\"M17.41 7.96l-1.37-1.37c-.4-.4-.92-.59-1.43-.59-.52 0-1.04.2-1.43.59L10.3 9.45l-7.72 7.72c-.78.78-.78 2.05 0 2.83L4 21.41c.39.39.9.59 1.41.59.51 0 1.02-.2 1.41-.59l7.78-7.78 2.81-2.81c.8-.78.8-2.07 0-2.86zM5.41 20L4 18.59l7.72-7.72 1.47 1.35L5.41 20z\"/>\n",
              "  </svg>\n",
              "      </button>\n",
              "      \n",
              "  <style>\n",
              "    .colab-df-container {\n",
              "      display:flex;\n",
              "      flex-wrap:wrap;\n",
              "      gap: 12px;\n",
              "    }\n",
              "\n",
              "    .colab-df-convert {\n",
              "      background-color: #E8F0FE;\n",
              "      border: none;\n",
              "      border-radius: 50%;\n",
              "      cursor: pointer;\n",
              "      display: none;\n",
              "      fill: #1967D2;\n",
              "      height: 32px;\n",
              "      padding: 0 0 0 0;\n",
              "      width: 32px;\n",
              "    }\n",
              "\n",
              "    .colab-df-convert:hover {\n",
              "      background-color: #E2EBFA;\n",
              "      box-shadow: 0px 1px 2px rgba(60, 64, 67, 0.3), 0px 1px 3px 1px rgba(60, 64, 67, 0.15);\n",
              "      fill: #174EA6;\n",
              "    }\n",
              "\n",
              "    [theme=dark] .colab-df-convert {\n",
              "      background-color: #3B4455;\n",
              "      fill: #D2E3FC;\n",
              "    }\n",
              "\n",
              "    [theme=dark] .colab-df-convert:hover {\n",
              "      background-color: #434B5C;\n",
              "      box-shadow: 0px 1px 3px 1px rgba(0, 0, 0, 0.15);\n",
              "      filter: drop-shadow(0px 1px 2px rgba(0, 0, 0, 0.3));\n",
              "      fill: #FFFFFF;\n",
              "    }\n",
              "  </style>\n",
              "\n",
              "      <script>\n",
              "        const buttonEl =\n",
              "          document.querySelector('#df-b8de1565-7c14-41f2-96fd-b18973fc98a1 button.colab-df-convert');\n",
              "        buttonEl.style.display =\n",
              "          google.colab.kernel.accessAllowed ? 'block' : 'none';\n",
              "\n",
              "        async function convertToInteractive(key) {\n",
              "          const element = document.querySelector('#df-b8de1565-7c14-41f2-96fd-b18973fc98a1');\n",
              "          const dataTable =\n",
              "            await google.colab.kernel.invokeFunction('convertToInteractive',\n",
              "                                                     [key], {});\n",
              "          if (!dataTable) return;\n",
              "\n",
              "          const docLinkHtml = 'Like what you see? Visit the ' +\n",
              "            '<a target=\"_blank\" href=https://colab.research.google.com/notebooks/data_table.ipynb>data table notebook</a>'\n",
              "            + ' to learn more about interactive tables.';\n",
              "          element.innerHTML = '';\n",
              "          dataTable['output_type'] = 'display_data';\n",
              "          await google.colab.output.renderOutput(dataTable, element);\n",
              "          const docLink = document.createElement('div');\n",
              "          docLink.innerHTML = docLinkHtml;\n",
              "          element.appendChild(docLink);\n",
              "        }\n",
              "      </script>\n",
              "    </div>\n",
              "  </div>\n",
              "  "
            ]
          },
          "metadata": {},
          "execution_count": 7
        }
      ]
    },
    {
      "cell_type": "code",
      "source": [
        "print(len(data)*0.8)\n",
        "data[984:]"
      ],
      "metadata": {
        "colab": {
          "base_uri": "https://localhost:8080/",
          "height": 441
        },
        "id": "3v2MAMqFHnVT",
        "outputId": "8e9af85e-f3a6-4929-99a8-419e215c8a78"
      },
      "id": "3v2MAMqFHnVT",
      "execution_count": 8,
      "outputs": [
        {
          "output_type": "stream",
          "name": "stdout",
          "text": [
            "984.0\n"
          ]
        },
        {
          "output_type": "execute_result",
          "data": {
            "text/plain": [
              "           Date        Open        High         Low       Close   Adj Close  \\\n",
              "984  2021-11-29  118.620003  119.610001  117.529999  118.500000  112.900734   \n",
              "985  2021-11-30  117.500000  119.239998  116.449997  117.099998  111.566872   \n",
              "986  2021-12-01  118.250000  118.930000  116.849998  116.919998  111.395386   \n",
              "987  2021-12-02  117.370003  117.980003  116.559998  116.900002  111.376343   \n",
              "988  2021-12-03  117.360001  119.360001  117.360001  118.839996  113.224663   \n",
              "...         ...         ...         ...         ...         ...         ...   \n",
              "1225 2022-11-11  141.500000  144.130005  140.960007  143.169998  143.169998   \n",
              "1226 2022-11-14  142.630005  146.080002  142.179993  144.199997  144.199997   \n",
              "1227 2022-11-15  144.080002  146.160004  142.000000  144.339996  144.339996   \n",
              "1228 2022-11-16  144.130005  144.949997  144.009995  144.520004  144.520004   \n",
              "1229 2022-11-17  143.410004  146.179993  143.250000  146.089996  146.089996   \n",
              "\n",
              "       Volume  \n",
              "984   8949800  \n",
              "985   9252700  \n",
              "986   5958300  \n",
              "987   5267100  \n",
              "988   6630100  \n",
              "...       ...  \n",
              "1225  5869400  \n",
              "1226  5293500  \n",
              "1227  4727100  \n",
              "1228  3445200  \n",
              "1229  3954000  \n",
              "\n",
              "[246 rows x 7 columns]"
            ],
            "text/html": [
              "\n",
              "  <div id=\"df-9e3a51a3-c730-4317-a710-ce5ea6ebd3e8\">\n",
              "    <div class=\"colab-df-container\">\n",
              "      <div>\n",
              "<style scoped>\n",
              "    .dataframe tbody tr th:only-of-type {\n",
              "        vertical-align: middle;\n",
              "    }\n",
              "\n",
              "    .dataframe tbody tr th {\n",
              "        vertical-align: top;\n",
              "    }\n",
              "\n",
              "    .dataframe thead th {\n",
              "        text-align: right;\n",
              "    }\n",
              "</style>\n",
              "<table border=\"1\" class=\"dataframe\">\n",
              "  <thead>\n",
              "    <tr style=\"text-align: right;\">\n",
              "      <th></th>\n",
              "      <th>Date</th>\n",
              "      <th>Open</th>\n",
              "      <th>High</th>\n",
              "      <th>Low</th>\n",
              "      <th>Close</th>\n",
              "      <th>Adj Close</th>\n",
              "      <th>Volume</th>\n",
              "    </tr>\n",
              "  </thead>\n",
              "  <tbody>\n",
              "    <tr>\n",
              "      <th>984</th>\n",
              "      <td>2021-11-29</td>\n",
              "      <td>118.620003</td>\n",
              "      <td>119.610001</td>\n",
              "      <td>117.529999</td>\n",
              "      <td>118.500000</td>\n",
              "      <td>112.900734</td>\n",
              "      <td>8949800</td>\n",
              "    </tr>\n",
              "    <tr>\n",
              "      <th>985</th>\n",
              "      <td>2021-11-30</td>\n",
              "      <td>117.500000</td>\n",
              "      <td>119.239998</td>\n",
              "      <td>116.449997</td>\n",
              "      <td>117.099998</td>\n",
              "      <td>111.566872</td>\n",
              "      <td>9252700</td>\n",
              "    </tr>\n",
              "    <tr>\n",
              "      <th>986</th>\n",
              "      <td>2021-12-01</td>\n",
              "      <td>118.250000</td>\n",
              "      <td>118.930000</td>\n",
              "      <td>116.849998</td>\n",
              "      <td>116.919998</td>\n",
              "      <td>111.395386</td>\n",
              "      <td>5958300</td>\n",
              "    </tr>\n",
              "    <tr>\n",
              "      <th>987</th>\n",
              "      <td>2021-12-02</td>\n",
              "      <td>117.370003</td>\n",
              "      <td>117.980003</td>\n",
              "      <td>116.559998</td>\n",
              "      <td>116.900002</td>\n",
              "      <td>111.376343</td>\n",
              "      <td>5267100</td>\n",
              "    </tr>\n",
              "    <tr>\n",
              "      <th>988</th>\n",
              "      <td>2021-12-03</td>\n",
              "      <td>117.360001</td>\n",
              "      <td>119.360001</td>\n",
              "      <td>117.360001</td>\n",
              "      <td>118.839996</td>\n",
              "      <td>113.224663</td>\n",
              "      <td>6630100</td>\n",
              "    </tr>\n",
              "    <tr>\n",
              "      <th>...</th>\n",
              "      <td>...</td>\n",
              "      <td>...</td>\n",
              "      <td>...</td>\n",
              "      <td>...</td>\n",
              "      <td>...</td>\n",
              "      <td>...</td>\n",
              "      <td>...</td>\n",
              "    </tr>\n",
              "    <tr>\n",
              "      <th>1225</th>\n",
              "      <td>2022-11-11</td>\n",
              "      <td>141.500000</td>\n",
              "      <td>144.130005</td>\n",
              "      <td>140.960007</td>\n",
              "      <td>143.169998</td>\n",
              "      <td>143.169998</td>\n",
              "      <td>5869400</td>\n",
              "    </tr>\n",
              "    <tr>\n",
              "      <th>1226</th>\n",
              "      <td>2022-11-14</td>\n",
              "      <td>142.630005</td>\n",
              "      <td>146.080002</td>\n",
              "      <td>142.179993</td>\n",
              "      <td>144.199997</td>\n",
              "      <td>144.199997</td>\n",
              "      <td>5293500</td>\n",
              "    </tr>\n",
              "    <tr>\n",
              "      <th>1227</th>\n",
              "      <td>2022-11-15</td>\n",
              "      <td>144.080002</td>\n",
              "      <td>146.160004</td>\n",
              "      <td>142.000000</td>\n",
              "      <td>144.339996</td>\n",
              "      <td>144.339996</td>\n",
              "      <td>4727100</td>\n",
              "    </tr>\n",
              "    <tr>\n",
              "      <th>1228</th>\n",
              "      <td>2022-11-16</td>\n",
              "      <td>144.130005</td>\n",
              "      <td>144.949997</td>\n",
              "      <td>144.009995</td>\n",
              "      <td>144.520004</td>\n",
              "      <td>144.520004</td>\n",
              "      <td>3445200</td>\n",
              "    </tr>\n",
              "    <tr>\n",
              "      <th>1229</th>\n",
              "      <td>2022-11-17</td>\n",
              "      <td>143.410004</td>\n",
              "      <td>146.179993</td>\n",
              "      <td>143.250000</td>\n",
              "      <td>146.089996</td>\n",
              "      <td>146.089996</td>\n",
              "      <td>3954000</td>\n",
              "    </tr>\n",
              "  </tbody>\n",
              "</table>\n",
              "<p>246 rows × 7 columns</p>\n",
              "</div>\n",
              "      <button class=\"colab-df-convert\" onclick=\"convertToInteractive('df-9e3a51a3-c730-4317-a710-ce5ea6ebd3e8')\"\n",
              "              title=\"Convert this dataframe to an interactive table.\"\n",
              "              style=\"display:none;\">\n",
              "        \n",
              "  <svg xmlns=\"http://www.w3.org/2000/svg\" height=\"24px\"viewBox=\"0 0 24 24\"\n",
              "       width=\"24px\">\n",
              "    <path d=\"M0 0h24v24H0V0z\" fill=\"none\"/>\n",
              "    <path d=\"M18.56 5.44l.94 2.06.94-2.06 2.06-.94-2.06-.94-.94-2.06-.94 2.06-2.06.94zm-11 1L8.5 8.5l.94-2.06 2.06-.94-2.06-.94L8.5 2.5l-.94 2.06-2.06.94zm10 10l.94 2.06.94-2.06 2.06-.94-2.06-.94-.94-2.06-.94 2.06-2.06.94z\"/><path d=\"M17.41 7.96l-1.37-1.37c-.4-.4-.92-.59-1.43-.59-.52 0-1.04.2-1.43.59L10.3 9.45l-7.72 7.72c-.78.78-.78 2.05 0 2.83L4 21.41c.39.39.9.59 1.41.59.51 0 1.02-.2 1.41-.59l7.78-7.78 2.81-2.81c.8-.78.8-2.07 0-2.86zM5.41 20L4 18.59l7.72-7.72 1.47 1.35L5.41 20z\"/>\n",
              "  </svg>\n",
              "      </button>\n",
              "      \n",
              "  <style>\n",
              "    .colab-df-container {\n",
              "      display:flex;\n",
              "      flex-wrap:wrap;\n",
              "      gap: 12px;\n",
              "    }\n",
              "\n",
              "    .colab-df-convert {\n",
              "      background-color: #E8F0FE;\n",
              "      border: none;\n",
              "      border-radius: 50%;\n",
              "      cursor: pointer;\n",
              "      display: none;\n",
              "      fill: #1967D2;\n",
              "      height: 32px;\n",
              "      padding: 0 0 0 0;\n",
              "      width: 32px;\n",
              "    }\n",
              "\n",
              "    .colab-df-convert:hover {\n",
              "      background-color: #E2EBFA;\n",
              "      box-shadow: 0px 1px 2px rgba(60, 64, 67, 0.3), 0px 1px 3px 1px rgba(60, 64, 67, 0.15);\n",
              "      fill: #174EA6;\n",
              "    }\n",
              "\n",
              "    [theme=dark] .colab-df-convert {\n",
              "      background-color: #3B4455;\n",
              "      fill: #D2E3FC;\n",
              "    }\n",
              "\n",
              "    [theme=dark] .colab-df-convert:hover {\n",
              "      background-color: #434B5C;\n",
              "      box-shadow: 0px 1px 3px 1px rgba(0, 0, 0, 0.15);\n",
              "      filter: drop-shadow(0px 1px 2px rgba(0, 0, 0, 0.3));\n",
              "      fill: #FFFFFF;\n",
              "    }\n",
              "  </style>\n",
              "\n",
              "      <script>\n",
              "        const buttonEl =\n",
              "          document.querySelector('#df-9e3a51a3-c730-4317-a710-ce5ea6ebd3e8 button.colab-df-convert');\n",
              "        buttonEl.style.display =\n",
              "          google.colab.kernel.accessAllowed ? 'block' : 'none';\n",
              "\n",
              "        async function convertToInteractive(key) {\n",
              "          const element = document.querySelector('#df-9e3a51a3-c730-4317-a710-ce5ea6ebd3e8');\n",
              "          const dataTable =\n",
              "            await google.colab.kernel.invokeFunction('convertToInteractive',\n",
              "                                                     [key], {});\n",
              "          if (!dataTable) return;\n",
              "\n",
              "          const docLinkHtml = 'Like what you see? Visit the ' +\n",
              "            '<a target=\"_blank\" href=https://colab.research.google.com/notebooks/data_table.ipynb>data table notebook</a>'\n",
              "            + ' to learn more about interactive tables.';\n",
              "          element.innerHTML = '';\n",
              "          dataTable['output_type'] = 'display_data';\n",
              "          await google.colab.output.renderOutput(dataTable, element);\n",
              "          const docLink = document.createElement('div');\n",
              "          docLink.innerHTML = docLinkHtml;\n",
              "          element.appendChild(docLink);\n",
              "        }\n",
              "      </script>\n",
              "    </div>\n",
              "  </div>\n",
              "  "
            ]
          },
          "metadata": {},
          "execution_count": 8
        }
      ]
    },
    {
      "cell_type": "code",
      "source": [
        "# Split data in training and test\n",
        "data_train = data[data.Date<datetime.datetime(2021,11,29)]\n",
        "data_test = data[data.Date>=datetime.datetime(2021,11,29)]"
      ],
      "metadata": {
        "id": "qVg6tXGOGCkR"
      },
      "id": "qVg6tXGOGCkR",
      "execution_count": 9,
      "outputs": []
    },
    {
      "cell_type": "code",
      "source": [
        "# Define min max scaler\n",
        "scaler = MinMaxScaler(feature_range=(0,1))\n",
        "# Scale data\n",
        "data_train['Scaled Close'] = scaler.fit_transform(data_train[['Close']])\n",
        "# Also, scale test data\n",
        "data_test['Scaled Close'] = scaler.transform(data_test[['Close']])"
      ],
      "metadata": {
        "colab": {
          "base_uri": "https://localhost:8080/"
        },
        "id": "ZPX0SxNpEgAh",
        "outputId": "01c8e093-9f62-49ee-8df5-fee8310aabaf"
      },
      "id": "ZPX0SxNpEgAh",
      "execution_count": 10,
      "outputs": [
        {
          "output_type": "stream",
          "name": "stderr",
          "text": [
            "/usr/local/lib/python3.7/dist-packages/ipykernel_launcher.py:4: SettingWithCopyWarning: \n",
            "A value is trying to be set on a copy of a slice from a DataFrame.\n",
            "Try using .loc[row_indexer,col_indexer] = value instead\n",
            "\n",
            "See the caveats in the documentation: https://pandas.pydata.org/pandas-docs/stable/user_guide/indexing.html#returning-a-view-versus-a-copy\n",
            "  after removing the cwd from sys.path.\n",
            "/usr/local/lib/python3.7/dist-packages/ipykernel_launcher.py:6: SettingWithCopyWarning: \n",
            "A value is trying to be set on a copy of a slice from a DataFrame.\n",
            "Try using .loc[row_indexer,col_indexer] = value instead\n",
            "\n",
            "See the caveats in the documentation: https://pandas.pydata.org/pandas-docs/stable/user_guide/indexing.html#returning-a-view-versus-a-copy\n",
            "  \n"
          ]
        }
      ]
    },
    {
      "cell_type": "code",
      "source": [
        "train_values =  data_train[['Date','Scaled Close']]\n",
        "test_values =  data_test[['Date','Scaled Close']]"
      ],
      "metadata": {
        "id": "SjQckpJBAcUw"
      },
      "id": "SjQckpJBAcUw",
      "execution_count": 11,
      "outputs": []
    },
    {
      "cell_type": "code",
      "source": [
        "# Define a sequence length\n",
        "sequence_length = 60\n",
        "\n",
        "# We go to create an array with our X and y values\n",
        "previous_days_train = []\n",
        "current_day_train = []\n",
        "\n",
        "for x in range(len(train_values)-sequence_length):\n",
        "  previous_days_train.append(train_values[['Scaled Close']][x:x+sequence_length].values)\n",
        "  current_day_train.append(train_values[['Scaled Close']].values[x+sequence_length])\n",
        "\n",
        "previous_days_train = np.array(previous_days_train)\n",
        "previous_days_train = np.reshape(previous_days_train,(-1,sequence_length))\n",
        "\n",
        "current_day_train = np.array(current_day_train)\n",
        "current_day_train = current_day_train.reshape((-1))"
      ],
      "metadata": {
        "id": "p_O8fF_gpt33"
      },
      "execution_count": 12,
      "outputs": [],
      "id": "p_O8fF_gpt33"
    },
    {
      "cell_type": "code",
      "source": [
        "current_day_train[0]"
      ],
      "metadata": {
        "colab": {
          "base_uri": "https://localhost:8080/"
        },
        "id": "0cKdiH467j13",
        "outputId": "1a57cf45-ae35-4ef4-d60e-6b7e9a4d231c"
      },
      "execution_count": 13,
      "outputs": [
        {
          "output_type": "execute_result",
          "data": {
            "text/plain": [
              "0.788971085901472"
            ]
          },
          "metadata": {},
          "execution_count": 13
        }
      ],
      "id": "0cKdiH467j13"
    },
    {
      "cell_type": "code",
      "source": [
        "previous_days_train[0]"
      ],
      "metadata": {
        "colab": {
          "base_uri": "https://localhost:8080/"
        },
        "id": "zDHYCMfm7m0v",
        "outputId": "f451f344-f336-4d23-8c07-a70a206aa186"
      },
      "execution_count": 14,
      "outputs": [
        {
          "output_type": "execute_result",
          "data": {
            "text/plain": [
              "array([0.79999995, 0.85702762, 0.90020177, 0.91082706, 0.924008  ,\n",
              "       0.92885008, 0.93355757, 0.93382655, 0.91956948, 0.92911906,\n",
              "       0.99367861, 1.        , 0.90921317, 0.91230657, 0.96139873,\n",
              "       0.94956292, 0.95090782, 0.97605918, 0.96879625, 0.92602546,\n",
              "       0.9271016 , 0.90961675, 0.86429053, 0.77686607, 0.8146604 ,\n",
              "       0.79462012, 0.71042365, 0.73624757, 0.76166767, 0.75292525,\n",
              "       0.80685951, 0.82367179, 0.82595825, 0.81223934, 0.79609963,\n",
              "       0.78560849, 0.81708145, 0.85823813, 0.83093472, 0.82125076,\n",
              "       0.79408194, 0.80322795, 0.83631478, 0.81977125, 0.85474116,\n",
              "       0.82636182, 0.86805648, 0.88083383, 0.86819107, 0.85205113,\n",
              "       0.87209141, 0.88083383, 0.84169461, 0.82622723, 0.8328178 ,\n",
              "       0.77094827, 0.7279085 , 0.78816414, 0.76852722, 0.77673169])"
            ]
          },
          "metadata": {},
          "execution_count": 14
        }
      ],
      "id": "zDHYCMfm7m0v"
    },
    {
      "cell_type": "code",
      "source": [
        "# We go to create an array with our X and y values\n",
        "previous_days_test = []\n",
        "current_day_test = []\n",
        "\n",
        "for x in range(len(test_values)-sequence_length):\n",
        "  previous_days_test.append(test_values[['Scaled Close']][x:x+sequence_length].values)\n",
        "  current_day_test.append(test_values[['Scaled Close']].values[x+sequence_length])\n",
        "\n",
        "previous_days_test = np.array(previous_days_test)\n",
        "previous_days_test = np.reshape(previous_days_test,(-1,sequence_length))\n",
        "\n",
        "current_day_test = np.array(current_day_test)\n",
        "current_day_test = current_day_test.reshape((-1))"
      ],
      "metadata": {
        "id": "I-gyxNR7yBa2"
      },
      "execution_count": 15,
      "outputs": [],
      "id": "I-gyxNR7yBa2"
    },
    {
      "cell_type": "code",
      "source": [
        "reg_model = LinearRegression().fit(previous_days_train, current_day_train)"
      ],
      "metadata": {
        "id": "v0ziuQ5FxM5X"
      },
      "execution_count": 16,
      "outputs": [],
      "id": "v0ziuQ5FxM5X"
    },
    {
      "cell_type": "code",
      "source": [
        "pred_training =  reg_model.predict(previous_days_train)\n",
        "pred_testing  =  reg_model.predict(previous_days_test)"
      ],
      "metadata": {
        "id": "Ao-Mmx9SxWXW"
      },
      "execution_count": 17,
      "outputs": [],
      "id": "Ao-Mmx9SxWXW"
    },
    {
      "cell_type": "code",
      "source": [
        "# Getting MSE\n",
        "error_mean_train = round(np.mean(np.square(data_train[['Open']][sequence_length:].values- scaler.inverse_transform(pred_training.reshape(-1, 1)))),2) / len(data_train)\n",
        "print('Mean Squared Error in training: ', str(error_mean_train))\n",
        "error_mean_test = round(np.mean(np.square(scaler.inverse_transform(pred_testing.reshape(-1, 1))- data_test[['Open']][sequence_length:].values)),2) / len(data_test)\n",
        "print('Mean Squared Error in testing: ', str(error_mean_test))"
      ],
      "metadata": {
        "colab": {
          "base_uri": "https://localhost:8080/"
        },
        "id": "T-XOyxRaz872",
        "outputId": "fe75d393-3e1b-46c1-db88-9f5e478e83de"
      },
      "execution_count": 39,
      "outputs": [
        {
          "output_type": "stream",
          "name": "stdout",
          "text": [
            "Mean Squared Error in training:  0.0020528455284552845\n",
            "Mean Squared Error in testing:  0.006463414634146342\n"
          ]
        }
      ],
      "id": "T-XOyxRaz872"
    },
    {
      "cell_type": "code",
      "source": [
        "sns.set_style(\"darkgrid\") \n",
        "fig = plt.figure()\n",
        "fig.subplots_adjust(hspace=0.2, wspace=0.2)\n",
        "ax = sns.lineplot(x = data_train['Date'][sequence_length:].index, y = data_train['Close'][sequence_length:], label=\"Data\", color='royalblue')\n",
        "ax = sns.lineplot(x = data_train['Date'][sequence_length:].index, y = scaler.inverse_transform(pred_training.reshape(-1, 1)).reshape(-1), label=\"Training Prediction (LR)\", color='tomato')\n",
        "ax.set_title('Stock price', size = 14, fontweight='bold')\n",
        "ax.set_xlabel(\"Days\", size = 14)\n",
        "ax.set_ylabel(\"Cost (USD)\", size = 14)\n",
        "ax.set_xticklabels('', size=10)"
      ],
      "metadata": {
        "colab": {
          "base_uri": "https://localhost:8080/",
          "height": 307
        },
        "id": "7IpmfKzOLemB",
        "outputId": "1efb32c8-cd09-49ad-a600-88cc6670fded"
      },
      "id": "7IpmfKzOLemB",
      "execution_count": 36,
      "outputs": [
        {
          "output_type": "execute_result",
          "data": {
            "text/plain": [
              "[]"
            ]
          },
          "metadata": {},
          "execution_count": 36
        },
        {
          "output_type": "display_data",
          "data": {
            "text/plain": [
              "<Figure size 432x288 with 1 Axes>"
            ],
            "image/png": "[encoded data removed]"
          },
          "metadata": {}
        }
      ]
    },
    {
      "cell_type": "code",
      "source": [
        "sns.set_style(\"darkgrid\") \n",
        "fig = plt.figure()\n",
        "fig.subplots_adjust(hspace=0.2, wspace=0.2)\n",
        "ax = sns.lineplot(x = data_test['Date'][sequence_length:].index, y = data_test['Close'][sequence_length:], label=\"Data\", color='royalblue')\n",
        "ax = sns.lineplot(x =data_test['Date'][sequence_length:].index, y = scaler.inverse_transform(pred_testing.reshape(-1, 1)).reshape(-1), label=\"Training Prediction (LR)\", color='tomato')\n",
        "ax.set_title('Stock price', size = 14, fontweight='bold')\n",
        "ax.set_xlabel(\"Days\", size = 14)\n",
        "ax.set_ylabel(\"Cost (USD)\", size = 14)\n",
        "ax.set_xticklabels('', size=10)"
      ],
      "metadata": {
        "colab": {
          "base_uri": "https://localhost:8080/",
          "height": 307
        },
        "id": "OrVOPDkoMBlB",
        "outputId": "c8aefe3b-e899-4bc4-949b-e0067a148a45"
      },
      "id": "OrVOPDkoMBlB",
      "execution_count": 37,
      "outputs": [
        {
          "output_type": "execute_result",
          "data": {
            "text/plain": [
              "[]"
            ]
          },
          "metadata": {},
          "execution_count": 37
        },
        {
          "output_type": "display_data",
          "data": {
            "text/plain": [
              "<Figure size 432x288 with 1 Axes>"
            ],
            "image/png": "[encoded data removed]"
          },
          "metadata": {}
        }
      ]
    }
  ],
  "metadata": {
    "kernelspec": {
      "display_name": "Python 3 (ipykernel)",
      "language": "python",
      "name": "python3"
    },
    "language_info": {
      "codemirror_mode": {
        "name": "ipython",
        "version": 3
      },
      "file_extension": ".py",
      "mimetype": "text/x-python",
      "name": "python",
      "nbconvert_exporter": "python",
      "pygments_lexer": "ipython3",
      "version": "3.9.12"
    },
    "colab": {
      "provenance": []
    },
    "accelerator": "GPU",
    "gpuClass": "standard"
  },
  "nbformat": 4,
  "nbformat_minor": 5
}